{
 "cells": [
  {
   "cell_type": "code",
   "execution_count": 33,
   "metadata": {},
   "outputs": [
    {
     "name": "stdout",
     "output_type": "stream",
     "text": [
      "\n",
      "No file selected\n"
     ]
    }
   ],
   "source": [
    "try:\n",
    "    import os\n",
    "    import tkinter as tk\n",
    "    import tkinter.ttk as ttk\n",
    "    from tkinter import filedialog\n",
    "    from tkinter import * \n",
    "    from PIL import ImageTk,Image  \n",
    "except ImportError:\n",
    "    import Tkinter as tk\n",
    "    import ttk\n",
    "    import tkFileDialog as filedialog\n",
    " \n",
    "     \n",
    "\n",
    " \n",
    "def c_open_image():\n",
    "    rep = filedialog.askopenfilenames(\n",
    "    \tparent=root,\n",
    "    \tinitialdir='/',\n",
    "    \tinitialfile='tmp',\n",
    "    \tfiletypes=[\n",
    "    \t\t(\"PNG\", \"*.png\"),\n",
    "    \t\t(\"JPEG\", \"*.jpg\"),\n",
    "    \t\t(\"All files\", \"*\")])\n",
    "    print(rep)\n",
    "    try:\n",
    "\t    os.startfile(rep[0])\n",
    "    except IndexError:\n",
    "        print(\"No file selected\")\n",
    "        \n",
    "        \n",
    "        \n",
    "def doMagic():\n",
    "    result[\"text\"] = \"No Corona\"\n",
    "    \n",
    "\n",
    "\n",
    "root = tk.Tk()\n",
    "root.title(\"COVID-19 Classifier\") # Change the Title of the GUI\n",
    "root.geometry('600x400') # Set the size of the Windows\n",
    "title =ttk.Label(root,text =\"Welcome to Corona checking Lab\", font='Helvetica 18 bold')\n",
    "\n",
    "\n",
    "title.pack()\n",
    "\n",
    "xray = ttk.Label(root, text=\"Please upload your scan:\")\n",
    "xray.pack()\n",
    "\n",
    "uploadxray = ttk.Button(root, text=\"Open files\", command=c_open_image)\n",
    "uploadxray.pack()\n",
    "#canvas = Canvas(root, width = 300, height = 300)      \n",
    "#canvas.pack()      \n",
    "#img = ImageTk.PhotoImage(Image.open(\"Xray-icon.jpg\"))      \n",
    "#canvas.create_image(20, 20, anchor=NW, image=img) \n",
    "#photo = PhotoImage(file='Xray-icon.jpg')\n",
    "#cv = Label(master, image=photo)\n",
    "#cv.pack(side=BOTTOM)\n",
    "image = Image.open(\"Xray.jpg\")\n",
    "width, height = image.size\n",
    "img = image.resize((round(250/height*width) , round(250)))\n",
    "photo = ImageTk.PhotoImage(img)\n",
    "icon = Label(image=photo)\n",
    "icon.image = photo # keep a reference!\n",
    "icon.pack()\n",
    "\n",
    "submit = ttk.Button(root, text =\"Check\")\n",
    "submit.pack()\n",
    "submit.config(command = doMagic)\n",
    "\n",
    "result = ttk.Label(root)\n",
    "result.pack()\n",
    "\n",
    "\n",
    "root.mainloop()\n"
   ]
  },
  {
   "cell_type": "code",
   "execution_count": null,
   "metadata": {},
   "outputs": [],
   "source": []
  },
  {
   "cell_type": "code",
   "execution_count": null,
   "metadata": {},
   "outputs": [],
   "source": []
  }
 ],
 "metadata": {
  "kernelspec": {
   "display_name": "Python 3",
   "language": "python",
   "name": "python3"
  },
  "language_info": {
   "codemirror_mode": {
    "name": "ipython",
    "version": 3
   },
   "file_extension": ".py",
   "mimetype": "text/x-python",
   "name": "python",
   "nbconvert_exporter": "python",
   "pygments_lexer": "ipython3",
   "version": "3.7.1"
  }
 },
 "nbformat": 4,
 "nbformat_minor": 2
}
